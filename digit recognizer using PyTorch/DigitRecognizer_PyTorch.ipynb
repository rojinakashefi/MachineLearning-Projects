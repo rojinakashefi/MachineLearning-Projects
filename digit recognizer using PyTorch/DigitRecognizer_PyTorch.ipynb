{
  "cells": [
    {
      "cell_type": "code",
      "source": [
        "!gdown 1YCAZY4xVH2IHvV1QzAb0Q12bC5HXGe-2"
      ],
      "metadata": {
        "colab": {
          "base_uri": "https://localhost:8080/"
        },
        "id": "ay1UtqsGy_Xh",
        "outputId": "764e0563-291e-44b6-a3be-4be894148aa3"
      },
      "id": "ay1UtqsGy_Xh",
      "execution_count": 1,
      "outputs": [
        {
          "output_type": "stream",
          "name": "stdout",
          "text": [
            "Downloading...\n",
            "From: https://drive.google.com/uc?id=1YCAZY4xVH2IHvV1QzAb0Q12bC5HXGe-2\n",
            "To: /content/digit-recognizer.zip\n",
            "\r  0% 0.00/16.1M [00:00<?, ?B/s]\r100% 16.1M/16.1M [00:00<00:00, 288MB/s]\n"
          ]
        }
      ]
    },
    {
      "cell_type": "code",
      "source": [
        " !unzip digit-recognizer.zip"
      ],
      "metadata": {
        "colab": {
          "base_uri": "https://localhost:8080/"
        },
        "id": "X6AXs8XE6GSw",
        "outputId": "fd9d011c-1338-4fc3-f066-36e1c9abf741"
      },
      "id": "X6AXs8XE6GSw",
      "execution_count": 2,
      "outputs": [
        {
          "output_type": "stream",
          "name": "stdout",
          "text": [
            "Archive:  digit-recognizer.zip\n",
            "  inflating: sample_submission.csv   \n",
            "  inflating: test.csv                \n",
            "  inflating: train.csv               \n"
          ]
        }
      ]
    },
    {
      "cell_type": "code",
      "execution_count": 3,
      "id": "43035433",
      "metadata": {
        "execution": {
          "iopub.execute_input": "2023-03-18T09:28:52.550601Z",
          "iopub.status.busy": "2023-03-18T09:28:52.550185Z",
          "iopub.status.idle": "2023-03-18T09:28:56.664015Z",
          "shell.execute_reply": "2023-03-18T09:28:56.662490Z"
        },
        "papermill": {
          "duration": 4.125339,
          "end_time": "2023-03-18T09:28:56.667644",
          "exception": false,
          "start_time": "2023-03-18T09:28:52.542305",
          "status": "completed"
        },
        "tags": [],
        "id": "43035433"
      },
      "outputs": [],
      "source": [
        "import random\n",
        "import pandas as pd\n",
        "import numpy as np\n",
        "import matplotlib.pyplot as plt\n",
        "from sklearn.model_selection import train_test_split\n",
        "import torch\n",
        "import torch.nn as nn\n",
        "import torch.nn.functional as F\n",
        "from torch.autograd import Variable\n",
        "from torch.optim import lr_scheduler"
      ]
    },
    {
      "cell_type": "code",
      "source": [
        "import warnings\n",
        "# ignore all warnings\n",
        "warnings.filterwarnings(\"ignore\")"
      ],
      "metadata": {
        "id": "YFaks3R62f4r"
      },
      "id": "YFaks3R62f4r",
      "execution_count": 4,
      "outputs": []
    },
    {
      "cell_type": "code",
      "execution_count": 5,
      "id": "60cdc176",
      "metadata": {
        "execution": {
          "iopub.execute_input": "2023-03-18T09:28:56.679754Z",
          "iopub.status.busy": "2023-03-18T09:28:56.679171Z",
          "iopub.status.idle": "2023-03-18T09:29:06.266237Z",
          "shell.execute_reply": "2023-03-18T09:29:06.264350Z"
        },
        "papermill": {
          "duration": 9.597364,
          "end_time": "2023-03-18T09:29:06.269964",
          "exception": false,
          "start_time": "2023-03-18T09:28:56.672600",
          "status": "completed"
        },
        "tags": [],
        "id": "60cdc176"
      },
      "outputs": [],
      "source": [
        "train_dataset = pd.read_csv('./train.csv', dtype=np.float32)\n",
        "test_dataset  = pd.read_csv('./test.csv',dtype=np.float32 )"
      ]
    },
    {
      "cell_type": "code",
      "source": [
        "train_dataset.shape"
      ],
      "metadata": {
        "colab": {
          "base_uri": "https://localhost:8080/"
        },
        "id": "KhksYTGe6Qz8",
        "outputId": "5499ad22-6977-4219-d20b-eaf3a8543d42"
      },
      "id": "KhksYTGe6Qz8",
      "execution_count": 6,
      "outputs": [
        {
          "output_type": "execute_result",
          "data": {
            "text/plain": [
              "(42000, 785)"
            ]
          },
          "metadata": {},
          "execution_count": 6
        }
      ]
    },
    {
      "cell_type": "code",
      "source": [
        "train_dataset.shape"
      ],
      "metadata": {
        "colab": {
          "base_uri": "https://localhost:8080/"
        },
        "id": "tTykv0XI6KQx",
        "outputId": "367b44f9-aca9-4c41-8f9d-3c57ee0765cd"
      },
      "id": "tTykv0XI6KQx",
      "execution_count": 7,
      "outputs": [
        {
          "output_type": "execute_result",
          "data": {
            "text/plain": [
              "(42000, 785)"
            ]
          },
          "metadata": {},
          "execution_count": 7
        }
      ]
    },
    {
      "cell_type": "code",
      "source": [
        "train_dataset[:3]"
      ],
      "metadata": {
        "colab": {
          "base_uri": "https://localhost:8080/",
          "height": 173
        },
        "id": "Gc2t-RVc6L0A",
        "outputId": "cd03b410-effc-425a-b36b-fdacdf94d9f3"
      },
      "id": "Gc2t-RVc6L0A",
      "execution_count": 8,
      "outputs": [
        {
          "output_type": "execute_result",
          "data": {
            "text/plain": [
              "   label  pixel0  pixel1  pixel2  pixel3  pixel4  pixel5  pixel6  pixel7  \\\n",
              "0    1.0     0.0     0.0     0.0     0.0     0.0     0.0     0.0     0.0   \n",
              "1    0.0     0.0     0.0     0.0     0.0     0.0     0.0     0.0     0.0   \n",
              "2    1.0     0.0     0.0     0.0     0.0     0.0     0.0     0.0     0.0   \n",
              "\n",
              "   pixel8  ...  pixel774  pixel775  pixel776  pixel777  pixel778  pixel779  \\\n",
              "0     0.0  ...       0.0       0.0       0.0       0.0       0.0       0.0   \n",
              "1     0.0  ...       0.0       0.0       0.0       0.0       0.0       0.0   \n",
              "2     0.0  ...       0.0       0.0       0.0       0.0       0.0       0.0   \n",
              "\n",
              "   pixel780  pixel781  pixel782  pixel783  \n",
              "0       0.0       0.0       0.0       0.0  \n",
              "1       0.0       0.0       0.0       0.0  \n",
              "2       0.0       0.0       0.0       0.0  \n",
              "\n",
              "[3 rows x 785 columns]"
            ],
            "text/html": [
              "\n",
              "  <div id=\"df-aa2128c3-e3fe-422b-a618-321e5fee4cfc\">\n",
              "    <div class=\"colab-df-container\">\n",
              "      <div>\n",
              "<style scoped>\n",
              "    .dataframe tbody tr th:only-of-type {\n",
              "        vertical-align: middle;\n",
              "    }\n",
              "\n",
              "    .dataframe tbody tr th {\n",
              "        vertical-align: top;\n",
              "    }\n",
              "\n",
              "    .dataframe thead th {\n",
              "        text-align: right;\n",
              "    }\n",
              "</style>\n",
              "<table border=\"1\" class=\"dataframe\">\n",
              "  <thead>\n",
              "    <tr style=\"text-align: right;\">\n",
              "      <th></th>\n",
              "      <th>label</th>\n",
              "      <th>pixel0</th>\n",
              "      <th>pixel1</th>\n",
              "      <th>pixel2</th>\n",
              "      <th>pixel3</th>\n",
              "      <th>pixel4</th>\n",
              "      <th>pixel5</th>\n",
              "      <th>pixel6</th>\n",
              "      <th>pixel7</th>\n",
              "      <th>pixel8</th>\n",
              "      <th>...</th>\n",
              "      <th>pixel774</th>\n",
              "      <th>pixel775</th>\n",
              "      <th>pixel776</th>\n",
              "      <th>pixel777</th>\n",
              "      <th>pixel778</th>\n",
              "      <th>pixel779</th>\n",
              "      <th>pixel780</th>\n",
              "      <th>pixel781</th>\n",
              "      <th>pixel782</th>\n",
              "      <th>pixel783</th>\n",
              "    </tr>\n",
              "  </thead>\n",
              "  <tbody>\n",
              "    <tr>\n",
              "      <th>0</th>\n",
              "      <td>1.0</td>\n",
              "      <td>0.0</td>\n",
              "      <td>0.0</td>\n",
              "      <td>0.0</td>\n",
              "      <td>0.0</td>\n",
              "      <td>0.0</td>\n",
              "      <td>0.0</td>\n",
              "      <td>0.0</td>\n",
              "      <td>0.0</td>\n",
              "      <td>0.0</td>\n",
              "      <td>...</td>\n",
              "      <td>0.0</td>\n",
              "      <td>0.0</td>\n",
              "      <td>0.0</td>\n",
              "      <td>0.0</td>\n",
              "      <td>0.0</td>\n",
              "      <td>0.0</td>\n",
              "      <td>0.0</td>\n",
              "      <td>0.0</td>\n",
              "      <td>0.0</td>\n",
              "      <td>0.0</td>\n",
              "    </tr>\n",
              "    <tr>\n",
              "      <th>1</th>\n",
              "      <td>0.0</td>\n",
              "      <td>0.0</td>\n",
              "      <td>0.0</td>\n",
              "      <td>0.0</td>\n",
              "      <td>0.0</td>\n",
              "      <td>0.0</td>\n",
              "      <td>0.0</td>\n",
              "      <td>0.0</td>\n",
              "      <td>0.0</td>\n",
              "      <td>0.0</td>\n",
              "      <td>...</td>\n",
              "      <td>0.0</td>\n",
              "      <td>0.0</td>\n",
              "      <td>0.0</td>\n",
              "      <td>0.0</td>\n",
              "      <td>0.0</td>\n",
              "      <td>0.0</td>\n",
              "      <td>0.0</td>\n",
              "      <td>0.0</td>\n",
              "      <td>0.0</td>\n",
              "      <td>0.0</td>\n",
              "    </tr>\n",
              "    <tr>\n",
              "      <th>2</th>\n",
              "      <td>1.0</td>\n",
              "      <td>0.0</td>\n",
              "      <td>0.0</td>\n",
              "      <td>0.0</td>\n",
              "      <td>0.0</td>\n",
              "      <td>0.0</td>\n",
              "      <td>0.0</td>\n",
              "      <td>0.0</td>\n",
              "      <td>0.0</td>\n",
              "      <td>0.0</td>\n",
              "      <td>...</td>\n",
              "      <td>0.0</td>\n",
              "      <td>0.0</td>\n",
              "      <td>0.0</td>\n",
              "      <td>0.0</td>\n",
              "      <td>0.0</td>\n",
              "      <td>0.0</td>\n",
              "      <td>0.0</td>\n",
              "      <td>0.0</td>\n",
              "      <td>0.0</td>\n",
              "      <td>0.0</td>\n",
              "    </tr>\n",
              "  </tbody>\n",
              "</table>\n",
              "<p>3 rows × 785 columns</p>\n",
              "</div>\n",
              "      <button class=\"colab-df-convert\" onclick=\"convertToInteractive('df-aa2128c3-e3fe-422b-a618-321e5fee4cfc')\"\n",
              "              title=\"Convert this dataframe to an interactive table.\"\n",
              "              style=\"display:none;\">\n",
              "        \n",
              "  <svg xmlns=\"http://www.w3.org/2000/svg\" height=\"24px\"viewBox=\"0 0 24 24\"\n",
              "       width=\"24px\">\n",
              "    <path d=\"M0 0h24v24H0V0z\" fill=\"none\"/>\n",
              "    <path d=\"M18.56 5.44l.94 2.06.94-2.06 2.06-.94-2.06-.94-.94-2.06-.94 2.06-2.06.94zm-11 1L8.5 8.5l.94-2.06 2.06-.94-2.06-.94L8.5 2.5l-.94 2.06-2.06.94zm10 10l.94 2.06.94-2.06 2.06-.94-2.06-.94-.94-2.06-.94 2.06-2.06.94z\"/><path d=\"M17.41 7.96l-1.37-1.37c-.4-.4-.92-.59-1.43-.59-.52 0-1.04.2-1.43.59L10.3 9.45l-7.72 7.72c-.78.78-.78 2.05 0 2.83L4 21.41c.39.39.9.59 1.41.59.51 0 1.02-.2 1.41-.59l7.78-7.78 2.81-2.81c.8-.78.8-2.07 0-2.86zM5.41 20L4 18.59l7.72-7.72 1.47 1.35L5.41 20z\"/>\n",
              "  </svg>\n",
              "      </button>\n",
              "      \n",
              "  <style>\n",
              "    .colab-df-container {\n",
              "      display:flex;\n",
              "      flex-wrap:wrap;\n",
              "      gap: 12px;\n",
              "    }\n",
              "\n",
              "    .colab-df-convert {\n",
              "      background-color: #E8F0FE;\n",
              "      border: none;\n",
              "      border-radius: 50%;\n",
              "      cursor: pointer;\n",
              "      display: none;\n",
              "      fill: #1967D2;\n",
              "      height: 32px;\n",
              "      padding: 0 0 0 0;\n",
              "      width: 32px;\n",
              "    }\n",
              "\n",
              "    .colab-df-convert:hover {\n",
              "      background-color: #E2EBFA;\n",
              "      box-shadow: 0px 1px 2px rgba(60, 64, 67, 0.3), 0px 1px 3px 1px rgba(60, 64, 67, 0.15);\n",
              "      fill: #174EA6;\n",
              "    }\n",
              "\n",
              "    [theme=dark] .colab-df-convert {\n",
              "      background-color: #3B4455;\n",
              "      fill: #D2E3FC;\n",
              "    }\n",
              "\n",
              "    [theme=dark] .colab-df-convert:hover {\n",
              "      background-color: #434B5C;\n",
              "      box-shadow: 0px 1px 3px 1px rgba(0, 0, 0, 0.15);\n",
              "      filter: drop-shadow(0px 1px 2px rgba(0, 0, 0, 0.3));\n",
              "      fill: #FFFFFF;\n",
              "    }\n",
              "  </style>\n",
              "\n",
              "      <script>\n",
              "        const buttonEl =\n",
              "          document.querySelector('#df-aa2128c3-e3fe-422b-a618-321e5fee4cfc button.colab-df-convert');\n",
              "        buttonEl.style.display =\n",
              "          google.colab.kernel.accessAllowed ? 'block' : 'none';\n",
              "\n",
              "        async function convertToInteractive(key) {\n",
              "          const element = document.querySelector('#df-aa2128c3-e3fe-422b-a618-321e5fee4cfc');\n",
              "          const dataTable =\n",
              "            await google.colab.kernel.invokeFunction('convertToInteractive',\n",
              "                                                     [key], {});\n",
              "          if (!dataTable) return;\n",
              "\n",
              "          const docLinkHtml = 'Like what you see? Visit the ' +\n",
              "            '<a target=\"_blank\" href=https://colab.research.google.com/notebooks/data_table.ipynb>data table notebook</a>'\n",
              "            + ' to learn more about interactive tables.';\n",
              "          element.innerHTML = '';\n",
              "          dataTable['output_type'] = 'display_data';\n",
              "          await google.colab.output.renderOutput(dataTable, element);\n",
              "          const docLink = document.createElement('div');\n",
              "          docLink.innerHTML = docLinkHtml;\n",
              "          element.appendChild(docLink);\n",
              "        }\n",
              "      </script>\n",
              "    </div>\n",
              "  </div>\n",
              "  "
            ]
          },
          "metadata": {},
          "execution_count": 8
        }
      ]
    },
    {
      "cell_type": "code",
      "execution_count": 9,
      "id": "b431f4dd",
      "metadata": {
        "execution": {
          "iopub.execute_input": "2023-03-18T09:29:06.284317Z",
          "iopub.status.busy": "2023-03-18T09:29:06.283027Z",
          "iopub.status.idle": "2023-03-18T09:29:06.824799Z",
          "shell.execute_reply": "2023-03-18T09:29:06.823331Z"
        },
        "papermill": {
          "duration": 0.551952,
          "end_time": "2023-03-18T09:29:06.827806",
          "exception": false,
          "start_time": "2023-03-18T09:29:06.275854",
          "status": "completed"
        },
        "tags": [],
        "id": "b431f4dd"
      },
      "outputs": [],
      "source": [
        "def preprocessing(train, test, split_train_size=0.2):\n",
        "    targets = train.label.values\n",
        "    features = train.drop([\"label\"], axis=1).values\n",
        "\n",
        "    features = features / 255.\n",
        "\n",
        "    X_train, X_val, y_train, y_val = train_test_split(features,targets,test_size=split_train_size,random_state=42)\n",
        "    X_train = torch.from_numpy(X_train)\n",
        "    y_train = torch.from_numpy(y_train).type(torch.LongTensor)\n",
        "\n",
        "\n",
        "    X_val = torch.from_numpy(X_val)\n",
        "    y_val = torch.from_numpy(y_val).type(torch.LongTensor)\n",
        "\n",
        "    return X_train, y_train, X_val, y_val,"
      ]
    },
    {
      "cell_type": "code",
      "source": [
        "X_train, y_train, X_val, y_val, = preprocessing(train_dataset, test_dataset)"
      ],
      "metadata": {
        "id": "whaJ8ve-4IXq"
      },
      "id": "whaJ8ve-4IXq",
      "execution_count": 10,
      "outputs": []
    },
    {
      "cell_type": "code",
      "source": [
        "print(f'Shape of training data: {X_train.shape}')\n",
        "print(f'Shape training labels: {y_train.shape}')\n",
        "print(f'Shape of validation data: {X_val.shape}')\n",
        "print(f'Shape of valiation labels: {y_val.shape}')"
      ],
      "metadata": {
        "colab": {
          "base_uri": "https://localhost:8080/"
        },
        "id": "LuOP4M9s4Dz2",
        "outputId": "0c75e2a2-3772-483b-f06c-1bf9ec446431"
      },
      "id": "LuOP4M9s4Dz2",
      "execution_count": 11,
      "outputs": [
        {
          "output_type": "stream",
          "name": "stdout",
          "text": [
            "Shape of training data: torch.Size([33600, 784])\n",
            "Shape training labels: torch.Size([33600])\n",
            "Shape of validation data: torch.Size([8400, 784])\n",
            "Shape of valiation labels: torch.Size([8400])\n"
          ]
        }
      ]
    },
    {
      "cell_type": "code",
      "source": [
        "BATCH_SIZE = 100\n",
        "N_ITER = 2500\n",
        "EPOCHS = 15"
      ],
      "metadata": {
        "id": "R4hnKJBX3_Dz"
      },
      "id": "R4hnKJBX3_Dz",
      "execution_count": 12,
      "outputs": []
    },
    {
      "cell_type": "code",
      "source": [
        "train_tensor = torch.utils.data.TensorDataset(X_train, y_train)\n",
        "val_tensor = torch.utils.data.TensorDataset(X_val, y_val)"
      ],
      "metadata": {
        "id": "1KhvddWo4As1"
      },
      "id": "1KhvddWo4As1",
      "execution_count": 13,
      "outputs": []
    },
    {
      "cell_type": "code",
      "execution_count": 14,
      "id": "8032fbac",
      "metadata": {
        "execution": {
          "iopub.execute_input": "2023-03-18T09:29:06.842199Z",
          "iopub.status.busy": "2023-03-18T09:29:06.841421Z",
          "iopub.status.idle": "2023-03-18T09:29:06.850106Z",
          "shell.execute_reply": "2023-03-18T09:29:06.848905Z"
        },
        "papermill": {
          "duration": 0.018986,
          "end_time": "2023-03-18T09:29:06.853097",
          "exception": false,
          "start_time": "2023-03-18T09:29:06.834111",
          "status": "completed"
        },
        "tags": [],
        "id": "8032fbac"
      },
      "outputs": [],
      "source": [
        "train_loader = torch.utils.data.DataLoader(train_tensor, batch_size=BATCH_SIZE, shuffle=True)\n",
        "val_loader = torch.utils.data.DataLoader(val_tensor, batch_size=BATCH_SIZE, shuffle=False)"
      ]
    },
    {
      "cell_type": "code",
      "source": [
        "train_labels = next(iter(train_loader))\n",
        "train_labels[0].shape"
      ],
      "metadata": {
        "colab": {
          "base_uri": "https://localhost:8080/"
        },
        "id": "mSC_OZQYzPay",
        "outputId": "f178c692-bfde-4f15-8c38-fba11b7e7786"
      },
      "id": "mSC_OZQYzPay",
      "execution_count": 15,
      "outputs": [
        {
          "output_type": "execute_result",
          "data": {
            "text/plain": [
              "torch.Size([100, 784])"
            ]
          },
          "metadata": {},
          "execution_count": 15
        }
      ]
    },
    {
      "cell_type": "code",
      "execution_count": 16,
      "id": "49dada07",
      "metadata": {
        "execution": {
          "iopub.execute_input": "2023-03-18T09:29:06.866638Z",
          "iopub.status.busy": "2023-03-18T09:29:06.866201Z",
          "iopub.status.idle": "2023-03-18T09:29:08.235411Z",
          "shell.execute_reply": "2023-03-18T09:29:08.234161Z"
        },
        "papermill": {
          "duration": 1.378881,
          "end_time": "2023-03-18T09:29:08.238097",
          "exception": false,
          "start_time": "2023-03-18T09:29:06.859216",
          "status": "completed"
        },
        "tags": [],
        "colab": {
          "base_uri": "https://localhost:8080/",
          "height": 34
        },
        "id": "49dada07",
        "outputId": "c0df432c-06f8-4541-c054-7899446f3a38"
      },
      "outputs": [
        {
          "output_type": "display_data",
          "data": {
            "text/plain": [
              "<Figure size 432x288 with 0 Axes>"
            ]
          },
          "metadata": {}
        }
      ],
      "source": [
        "def display_images():\n",
        "  plt.figure(figsize=(12,4))\n",
        "  for i in range(3):\n",
        "    index = random.randint(1,X_train.shape[0])\n",
        "    label = y_train[index].numpy()\n",
        "    plt.subplot(330 + 1 + i)\n",
        "    plt.title('Label: %s \\n' % label, fontsize=18)\n",
        "    plt.imshow(X_train[index].resize(28, 28), cmap=plt.get_cmap('gray'))\n",
        "plt.subplots_adjust(bottom=0.001)\n",
        "plt.subplots_adjust(top=0.99)\n",
        "plt.show()"
      ]
    },
    {
      "cell_type": "code",
      "source": [
        "display_images()"
      ],
      "metadata": {
        "colab": {
          "base_uri": "https://localhost:8080/",
          "height": 153
        },
        "id": "PRCL2xAm3w_J",
        "outputId": "e2067704-9c86-4af9-9999-79d5a9c965ae"
      },
      "id": "PRCL2xAm3w_J",
      "execution_count": 17,
      "outputs": [
        {
          "output_type": "display_data",
          "data": {
            "text/plain": [
              "<Figure size 864x288 with 3 Axes>"
            ],
            "image/png": "[encoded data removed]"
          },
          "metadata": {
            "needs_background": "light"
          }
        }
      ]
    },
    {
      "cell_type": "code",
      "source": [
        "from torch import nn"
      ],
      "metadata": {
        "id": "11ci4mLB3rwy"
      },
      "id": "11ci4mLB3rwy",
      "execution_count": 18,
      "outputs": []
    },
    {
      "cell_type": "code",
      "execution_count": 19,
      "id": "e6a2d3ee",
      "metadata": {
        "execution": {
          "iopub.execute_input": "2023-03-18T09:29:08.252945Z",
          "iopub.status.busy": "2023-03-18T09:29:08.252486Z",
          "iopub.status.idle": "2023-03-18T09:29:08.439061Z",
          "shell.execute_reply": "2023-03-18T09:29:08.437572Z"
        },
        "papermill": {
          "duration": 0.197728,
          "end_time": "2023-03-18T09:29:08.442144",
          "exception": false,
          "start_time": "2023-03-18T09:29:08.244416",
          "status": "completed"
        },
        "tags": [],
        "id": "e6a2d3ee"
      },
      "outputs": [],
      "source": [
        "class CNNmodel(nn.Module):\n",
        "    def __init__(self):\n",
        "      super(CNNmodel, self).__init__()\n",
        "      self.c1 = nn.Conv2d(in_channels= 1,out_channels = 16,kernel_size=(5,5),stride=[1],padding=0)\n",
        "      self.r1 = nn.ReLU()\n",
        "      self.m1 = nn.MaxPool2d(kernel_size=(2,2))\n",
        "      self.d1 = nn.Dropout(0.25)\n",
        "\n",
        "      self.c2 = nn.Conv2d(in_channels=16,out_channels=32,kernel_size=(3,3),stride=[1],padding=0)\n",
        "      self.r2 = nn.ReLU()\n",
        "      self.m2 = nn.MaxPool2d(kernel_size=(2,2))\n",
        "      self.d2 = nn.Dropout(0.25)\n",
        "\n",
        "      self.fc1 = nn.Linear(32 * 5 * 5, 256)\n",
        "      self.d3 = nn.Dropout(0.25)\n",
        "      self.fc2 = nn.Linear(256, 10)\n",
        "    def forward(self,x):\n",
        "      out = self.c1(x) # [BATCH_SIZE, 16, 24, 24]\n",
        "      out = self.r1(out)\n",
        "      out = self.m1(out) # [BATCH_SIZE, 16, 12, 12]\n",
        "      out = self.d1(out)\n",
        "\n",
        "      out = self.c2(out) # [BATCH_SIZE, 32, 10, 10]\n",
        "      out = self.r2(out)\n",
        "      out = self.m2(out) # [BATCH_SIZE, 32, 5, 5]\n",
        "      out = self.d2(out)\n",
        "\n",
        "      out = out.view(out.size(0), -1)  # [BATCH_SIZE, 32*5*5=800]\n",
        "      out = self.fc1(out) # [BATCH_SIZE, 256]\n",
        "      out = self.d3(out)\n",
        "      out = self.fc2(out) # [BATCH_SIZE, 10]\n",
        "      return out\n"
      ]
    },
    {
      "cell_type": "code",
      "source": [
        "from torch.optim import lr_scheduler "
      ],
      "metadata": {
        "id": "3uO97_Lr3noi"
      },
      "id": "3uO97_Lr3noi",
      "execution_count": 20,
      "outputs": []
    },
    {
      "cell_type": "code",
      "source": [
        "# Create CNN\n",
        "model = CNNmodel()\n",
        "# Optimizer\n",
        "optimizer = torch.optim.Adam(model.parameters(), lr=0.003)\n",
        "# Cross Entropy Loss\n",
        "criterion = nn.CrossEntropyLoss()\n",
        "# LR scheduler\n",
        "exp_lr_scheduler = lr_scheduler.StepLR(optimizer, step_size=3, gamma=0.5)"
      ],
      "metadata": {
        "id": "42Wfn9K82m-z"
      },
      "id": "42Wfn9K82m-z",
      "execution_count": 21,
      "outputs": []
    },
    {
      "cell_type": "code",
      "source": [
        "print(model)"
      ],
      "metadata": {
        "colab": {
          "base_uri": "https://localhost:8080/"
        },
        "id": "SwZzYyG42p8A",
        "outputId": "89ee0630-1c7c-4c6f-c2b8-5c044014d43a"
      },
      "id": "SwZzYyG42p8A",
      "execution_count": 22,
      "outputs": [
        {
          "output_type": "stream",
          "name": "stdout",
          "text": [
            "CNNmodel(\n",
            "  (c1): Conv2d(1, 16, kernel_size=(5, 5), stride=(1,))\n",
            "  (r1): ReLU()\n",
            "  (m1): MaxPool2d(kernel_size=(2, 2), stride=(2, 2), padding=0, dilation=1, ceil_mode=False)\n",
            "  (d1): Dropout(p=0.25, inplace=False)\n",
            "  (c2): Conv2d(16, 32, kernel_size=(3, 3), stride=(1,))\n",
            "  (r2): ReLU()\n",
            "  (m2): MaxPool2d(kernel_size=(2, 2), stride=(2, 2), padding=0, dilation=1, ceil_mode=False)\n",
            "  (d2): Dropout(p=0.25, inplace=False)\n",
            "  (fc1): Linear(in_features=800, out_features=256, bias=True)\n",
            "  (d3): Dropout(p=0.25, inplace=False)\n",
            "  (fc2): Linear(in_features=256, out_features=10, bias=True)\n",
            ")\n"
          ]
        }
      ]
    },
    {
      "cell_type": "code",
      "source": [
        "device = ''\n",
        "if torch.cuda.is_available():\n",
        "    print(\"Model will be training on GPU\")\n",
        "    model = model.cuda()\n",
        "    criterion = criterion.cuda()\n",
        "    device = 'cuda'\n",
        "else:\n",
        "  device = 'cpu'\n",
        "  print(\"Model will be training on CPU\")"
      ],
      "metadata": {
        "colab": {
          "base_uri": "https://localhost:8080/"
        },
        "id": "90UTf5J21xSm",
        "outputId": "4421e836-91ce-4896-8975-300db80a1d08"
      },
      "id": "90UTf5J21xSm",
      "execution_count": 23,
      "outputs": [
        {
          "output_type": "stream",
          "name": "stdout",
          "text": [
            "Model will be training on GPU\n"
          ]
        }
      ]
    },
    {
      "cell_type": "code",
      "execution_count": 24,
      "id": "5174ce7b",
      "metadata": {
        "execution": {
          "iopub.execute_input": "2023-03-18T09:29:08.456807Z",
          "iopub.status.busy": "2023-03-18T09:29:08.455997Z",
          "iopub.status.idle": "2023-03-18T09:29:08.467522Z",
          "shell.execute_reply": "2023-03-18T09:29:08.466224Z"
        },
        "papermill": {
          "duration": 0.021986,
          "end_time": "2023-03-18T09:29:08.470439",
          "exception": false,
          "start_time": "2023-03-18T09:29:08.448453",
          "status": "completed"
        },
        "tags": [],
        "id": "5174ce7b"
      },
      "outputs": [],
      "source": [
        "def fit(epoch):\n",
        "  print('Training ...')\n",
        "  model.train()\n",
        "  exp_lr_scheduler.step()\n",
        "  train_loss = 0.0\n",
        "  train_accuracy = 0\n",
        "\n",
        "  # The current learning rate is stored in the\n",
        "  #  variable train_lr using optimizer.param_groups[0]['lr'].\n",
        "  #  This assumes that the optimizer being used has only one parameter group (e.g., if using Adam optimizer).\n",
        "  train_lr = optimizer.param_groups[0]['lr']\n",
        "  # A PyTorch Variable is a wrapper around a PyTorch Tensor, and represents a node in a computational graph.\n",
        "  # If x is a Variable then x.data is a Tensor giving its value, \n",
        "  # and x.grad is another Variable holding the gradient of x with respect to some scalar value.\n",
        "  for batch_index, (data,target) in enumerate(train_loader):\n",
        "    data = data.to(device)\n",
        "    target = target.type(torch.LongTensor)\n",
        "    target = target.to(device)\n",
        "    data, target = Variable(data.view(BATCH_SIZE, 1, 28, 28)), Variable(target)\n",
        "\n",
        "    optimizer.zero_grad()\n",
        "    output = model(data)\n",
        "    loss = criterion(output, target)\n",
        "\n",
        "    train_loss += loss.item()\n",
        "    # finding max\n",
        "    _, preds = torch.max(output.data, 1)\n",
        "    train_accuracy += (preds == target).sum().item()\n",
        "\n",
        "    loss.backward()\n",
        "    optimizer.step()\n",
        "\n",
        "    if (batch_index + 1) % 50 == 0:\n",
        "        print('Train Epoch: {} [{}/{} ({:.0f}%)]\\tLoss: {:.6f}'.format(\n",
        "                epoch + 1,\n",
        "                (batch_index + 1) * len(data),\n",
        "                len(train_loader.dataset),\n",
        "                BATCH_SIZE * (batch_index + 1) / len(train_loader),\n",
        "                loss.cpu().detach().numpy()))\n",
        "        \n",
        "  train_total_loss = train_loss / len(train_loader.dataset)\n",
        "  train_total_accuracy = 100. * train_accuracy / len(train_loader.dataset)\n",
        "\n",
        "  return train_total_loss, train_total_accuracy, train_lr\n",
        "      \n"
      ]
    },
    {
      "cell_type": "code",
      "execution_count": 25,
      "id": "fb73dec9",
      "metadata": {
        "execution": {
          "iopub.execute_input": "2023-03-18T09:29:08.485434Z",
          "iopub.status.busy": "2023-03-18T09:29:08.484409Z",
          "iopub.status.idle": "2023-03-18T09:29:08.495772Z",
          "shell.execute_reply": "2023-03-18T09:29:08.494553Z"
        },
        "papermill": {
          "duration": 0.021705,
          "end_time": "2023-03-18T09:29:08.498582",
          "exception": false,
          "start_time": "2023-03-18T09:29:08.476877",
          "status": "completed"
        },
        "tags": [],
        "id": "fb73dec9"
      },
      "outputs": [],
      "source": [
        "def validate(data_loader):\n",
        "    print('validating .... ')\n",
        "\n",
        "    model.eval()\n",
        "    val_preds = torch.LongTensor()\n",
        "    val_prob = torch.FloatTensor()\n",
        "\n",
        "    val_loss = 0.0\n",
        "    val_acc = 0\n",
        "\n",
        "    for data, target in data_loader:\n",
        "        data = data.float().to(device)\n",
        "        target = target.to(device)\n",
        "        data, target = Variable(data.view(BATCH_SIZE, 1, 28, 28), volatile=True), Variable(target)\n",
        "\n",
        "        output = model(data.view(BATCH_SIZE, 1, 28, 28))\n",
        "        loss = criterion(output, target)\n",
        "\n",
        "        val_loss += loss.item()\n",
        "        pred = output.data.max(1, keepdim=True)[1]\n",
        "        prob = torch.nn.functional.softmax(output.data)\n",
        "\n",
        "        val_acc += pred.eq(target.data.view_as(pred)).cpu().sum()\n",
        "\n",
        "        val_preds = torch.cat((val_preds.to(device), pred.to(device)), dim=0)\n",
        "        val_prob = torch.cat((val_prob.to(device), prob.to(device)))\n",
        "\n",
        "    val_output_loss = val_loss / len(data_loader.dataset)\n",
        "    val_output_acc = 100. * val_acc / len(data_loader.dataset)\n",
        "\n",
        "    return val_output_loss, val_output_acc, val_preds, val_prob\n",
        "\n"
      ]
    },
    {
      "cell_type": "code",
      "source": [
        "train_loss, train_accuracy = [], []\n",
        "val_loss, val_accuracy = [], []\n",
        "val_preds, val_probs = [], []\n",
        "train_lr = []"
      ],
      "metadata": {
        "id": "uZ5_oa9A2dYc"
      },
      "id": "uZ5_oa9A2dYc",
      "execution_count": 26,
      "outputs": []
    },
    {
      "cell_type": "code",
      "execution_count": 27,
      "id": "3d2aff3e",
      "metadata": {
        "execution": {
          "iopub.execute_input": "2023-03-18T09:29:08.514971Z",
          "iopub.status.busy": "2023-03-18T09:29:08.513656Z",
          "iopub.status.idle": "2023-03-18T09:31:08.370604Z",
          "shell.execute_reply": "2023-03-18T09:31:08.369132Z"
        },
        "papermill": {
          "duration": 119.868519,
          "end_time": "2023-03-18T09:31:08.373658",
          "exception": false,
          "start_time": "2023-03-18T09:29:08.505139",
          "status": "completed"
        },
        "tags": [],
        "colab": {
          "base_uri": "https://localhost:8080/"
        },
        "id": "3d2aff3e",
        "outputId": "91614b8e-64a7-4985-bd4b-bc5107d73bcf"
      },
      "outputs": [
        {
          "output_type": "stream",
          "name": "stdout",
          "text": [
            "Epoch 1 of 15\n",
            "\n",
            "Training ...\n",
            "Train Epoch: 1 [5000/33600 (15%)]\tLoss: 0.312499\n",
            "Train Epoch: 1 [10000/33600 (30%)]\tLoss: 0.090381\n",
            "Train Epoch: 1 [15000/33600 (45%)]\tLoss: 0.118412\n",
            "Train Epoch: 1 [20000/33600 (60%)]\tLoss: 0.095001\n",
            "Train Epoch: 1 [25000/33600 (74%)]\tLoss: 0.097954\n",
            "Train Epoch: 1 [30000/33600 (89%)]\tLoss: 0.020750\n",
            "validating .... \n",
            "Train Loss: 0.0026, Train Acc: 91.99\n",
            "Val Loss: 0.0009, Val Acc: 97.15\n",
            "\n",
            "Epoch 2 of 15\n",
            "\n",
            "Training ...\n",
            "Train Epoch: 2 [5000/33600 (15%)]\tLoss: 0.085472\n",
            "Train Epoch: 2 [10000/33600 (30%)]\tLoss: 0.251313\n",
            "Train Epoch: 2 [15000/33600 (45%)]\tLoss: 0.095659\n",
            "Train Epoch: 2 [20000/33600 (60%)]\tLoss: 0.023568\n",
            "Train Epoch: 2 [25000/33600 (74%)]\tLoss: 0.086614\n",
            "Train Epoch: 2 [30000/33600 (89%)]\tLoss: 0.035035\n",
            "validating .... \n",
            "Train Loss: 0.0010, Train Acc: 96.69\n",
            "Val Loss: 0.0007, Val Acc: 97.90\n",
            "\n",
            "Epoch 3 of 15\n",
            "\n",
            "Training ...\n",
            "Train Epoch: 3 [5000/33600 (15%)]\tLoss: 0.066582\n",
            "Train Epoch: 3 [10000/33600 (30%)]\tLoss: 0.154735\n",
            "Train Epoch: 3 [15000/33600 (45%)]\tLoss: 0.108043\n",
            "Train Epoch: 3 [20000/33600 (60%)]\tLoss: 0.098280\n",
            "Train Epoch: 3 [25000/33600 (74%)]\tLoss: 0.128545\n",
            "Train Epoch: 3 [30000/33600 (89%)]\tLoss: 0.054157\n",
            "validating .... \n",
            "Train Loss: 0.0007, Train Acc: 97.84\n",
            "Val Loss: 0.0005, Val Acc: 98.49\n",
            "\n",
            "Epoch 4 of 15\n",
            "\n",
            "Training ...\n",
            "Train Epoch: 4 [5000/33600 (15%)]\tLoss: 0.069548\n",
            "Train Epoch: 4 [10000/33600 (30%)]\tLoss: 0.055981\n",
            "Train Epoch: 4 [15000/33600 (45%)]\tLoss: 0.122761\n",
            "Train Epoch: 4 [20000/33600 (60%)]\tLoss: 0.032053\n",
            "Train Epoch: 4 [25000/33600 (74%)]\tLoss: 0.083500\n",
            "Train Epoch: 4 [30000/33600 (89%)]\tLoss: 0.014205\n",
            "validating .... \n",
            "Train Loss: 0.0006, Train Acc: 98.10\n",
            "Val Loss: 0.0005, Val Acc: 98.56\n",
            "\n",
            "Epoch 5 of 15\n",
            "\n",
            "Training ...\n",
            "Train Epoch: 5 [5000/33600 (15%)]\tLoss: 0.017880\n",
            "Train Epoch: 5 [10000/33600 (30%)]\tLoss: 0.032359\n",
            "Train Epoch: 5 [15000/33600 (45%)]\tLoss: 0.025921\n",
            "Train Epoch: 5 [20000/33600 (60%)]\tLoss: 0.077690\n",
            "Train Epoch: 5 [25000/33600 (74%)]\tLoss: 0.021618\n",
            "Train Epoch: 5 [30000/33600 (89%)]\tLoss: 0.042645\n",
            "validating .... \n",
            "Train Loss: 0.0006, Train Acc: 98.18\n",
            "Val Loss: 0.0004, Val Acc: 98.95\n",
            "\n",
            "Epoch 6 of 15\n",
            "\n",
            "Training ...\n",
            "Train Epoch: 6 [5000/33600 (15%)]\tLoss: 0.035019\n",
            "Train Epoch: 6 [10000/33600 (30%)]\tLoss: 0.047665\n",
            "Train Epoch: 6 [15000/33600 (45%)]\tLoss: 0.033387\n",
            "Train Epoch: 6 [20000/33600 (60%)]\tLoss: 0.088645\n",
            "Train Epoch: 6 [25000/33600 (74%)]\tLoss: 0.045356\n",
            "Train Epoch: 6 [30000/33600 (89%)]\tLoss: 0.076913\n",
            "validating .... \n",
            "Train Loss: 0.0004, Train Acc: 98.62\n",
            "Val Loss: 0.0003, Val Acc: 99.00\n",
            "\n",
            "Epoch 7 of 15\n",
            "\n",
            "Training ...\n",
            "Train Epoch: 7 [5000/33600 (15%)]\tLoss: 0.007472\n",
            "Train Epoch: 7 [10000/33600 (30%)]\tLoss: 0.044604\n",
            "Train Epoch: 7 [15000/33600 (45%)]\tLoss: 0.044894\n",
            "Train Epoch: 7 [20000/33600 (60%)]\tLoss: 0.057142\n",
            "Train Epoch: 7 [25000/33600 (74%)]\tLoss: 0.050345\n",
            "Train Epoch: 7 [30000/33600 (89%)]\tLoss: 0.022618\n",
            "validating .... \n",
            "Train Loss: 0.0005, Train Acc: 98.57\n",
            "Val Loss: 0.0003, Val Acc: 99.04\n",
            "\n",
            "Epoch 8 of 15\n",
            "\n",
            "Training ...\n",
            "Train Epoch: 8 [5000/33600 (15%)]\tLoss: 0.150605\n",
            "Train Epoch: 8 [10000/33600 (30%)]\tLoss: 0.024026\n",
            "Train Epoch: 8 [15000/33600 (45%)]\tLoss: 0.012676\n",
            "Train Epoch: 8 [20000/33600 (60%)]\tLoss: 0.069914\n",
            "Train Epoch: 8 [25000/33600 (74%)]\tLoss: 0.047097\n",
            "Train Epoch: 8 [30000/33600 (89%)]\tLoss: 0.009632\n",
            "validating .... \n",
            "Train Loss: 0.0004, Train Acc: 98.68\n",
            "Val Loss: 0.0004, Val Acc: 98.75\n",
            "\n",
            "Epoch 9 of 15\n",
            "\n",
            "Training ...\n",
            "Train Epoch: 9 [5000/33600 (15%)]\tLoss: 0.028516\n",
            "Train Epoch: 9 [10000/33600 (30%)]\tLoss: 0.019207\n",
            "Train Epoch: 9 [15000/33600 (45%)]\tLoss: 0.086564\n",
            "Train Epoch: 9 [20000/33600 (60%)]\tLoss: 0.033243\n",
            "Train Epoch: 9 [25000/33600 (74%)]\tLoss: 0.009714\n",
            "Train Epoch: 9 [30000/33600 (89%)]\tLoss: 0.013723\n",
            "validating .... \n",
            "Train Loss: 0.0004, Train Acc: 98.82\n",
            "Val Loss: 0.0003, Val Acc: 99.01\n",
            "\n",
            "Epoch 10 of 15\n",
            "\n",
            "Training ...\n",
            "Train Epoch: 10 [5000/33600 (15%)]\tLoss: 0.020860\n",
            "Train Epoch: 10 [10000/33600 (30%)]\tLoss: 0.014543\n",
            "Train Epoch: 10 [15000/33600 (45%)]\tLoss: 0.018111\n",
            "Train Epoch: 10 [20000/33600 (60%)]\tLoss: 0.018904\n",
            "Train Epoch: 10 [25000/33600 (74%)]\tLoss: 0.013639\n",
            "Train Epoch: 10 [30000/33600 (89%)]\tLoss: 0.016152\n",
            "validating .... \n",
            "Train Loss: 0.0004, Train Acc: 98.80\n",
            "Val Loss: 0.0003, Val Acc: 99.08\n",
            "\n",
            "Epoch 11 of 15\n",
            "\n",
            "Training ...\n",
            "Train Epoch: 11 [5000/33600 (15%)]\tLoss: 0.056734\n",
            "Train Epoch: 11 [10000/33600 (30%)]\tLoss: 0.039711\n",
            "Train Epoch: 11 [15000/33600 (45%)]\tLoss: 0.017094\n",
            "Train Epoch: 11 [20000/33600 (60%)]\tLoss: 0.035270\n",
            "Train Epoch: 11 [25000/33600 (74%)]\tLoss: 0.033435\n",
            "Train Epoch: 11 [30000/33600 (89%)]\tLoss: 0.027019\n",
            "validating .... \n",
            "Train Loss: 0.0003, Train Acc: 98.91\n",
            "Val Loss: 0.0003, Val Acc: 99.06\n",
            "\n",
            "Epoch 12 of 15\n",
            "\n",
            "Training ...\n",
            "Train Epoch: 12 [5000/33600 (15%)]\tLoss: 0.015101\n",
            "Train Epoch: 12 [10000/33600 (30%)]\tLoss: 0.006230\n",
            "Train Epoch: 12 [15000/33600 (45%)]\tLoss: 0.069195\n",
            "Train Epoch: 12 [20000/33600 (60%)]\tLoss: 0.029139\n",
            "Train Epoch: 12 [25000/33600 (74%)]\tLoss: 0.007576\n",
            "Train Epoch: 12 [30000/33600 (89%)]\tLoss: 0.070790\n",
            "validating .... \n",
            "Train Loss: 0.0003, Train Acc: 98.93\n",
            "Val Loss: 0.0003, Val Acc: 99.11\n",
            "\n",
            "Epoch 13 of 15\n",
            "\n",
            "Training ...\n",
            "Train Epoch: 13 [5000/33600 (15%)]\tLoss: 0.045524\n",
            "Train Epoch: 13 [10000/33600 (30%)]\tLoss: 0.032757\n",
            "Train Epoch: 13 [15000/33600 (45%)]\tLoss: 0.015001\n",
            "Train Epoch: 13 [20000/33600 (60%)]\tLoss: 0.040263\n",
            "Train Epoch: 13 [25000/33600 (74%)]\tLoss: 0.023867\n",
            "Train Epoch: 13 [30000/33600 (89%)]\tLoss: 0.011330\n",
            "validating .... \n",
            "Train Loss: 0.0003, Train Acc: 98.95\n",
            "Val Loss: 0.0003, Val Acc: 99.13\n",
            "\n",
            "Epoch 14 of 15\n",
            "\n",
            "Training ...\n",
            "Train Epoch: 14 [5000/33600 (15%)]\tLoss: 0.011184\n",
            "Train Epoch: 14 [10000/33600 (30%)]\tLoss: 0.009217\n",
            "Train Epoch: 14 [15000/33600 (45%)]\tLoss: 0.017189\n",
            "Train Epoch: 14 [20000/33600 (60%)]\tLoss: 0.016107\n",
            "Train Epoch: 14 [25000/33600 (74%)]\tLoss: 0.081868\n",
            "Train Epoch: 14 [30000/33600 (89%)]\tLoss: 0.063555\n",
            "validating .... \n",
            "Train Loss: 0.0003, Train Acc: 99.00\n",
            "Val Loss: 0.0003, Val Acc: 99.11\n",
            "\n",
            "Epoch 15 of 15\n",
            "\n",
            "Training ...\n",
            "Train Epoch: 15 [5000/33600 (15%)]\tLoss: 0.002565\n",
            "Train Epoch: 15 [10000/33600 (30%)]\tLoss: 0.007353\n",
            "Train Epoch: 15 [15000/33600 (45%)]\tLoss: 0.031172\n",
            "Train Epoch: 15 [20000/33600 (60%)]\tLoss: 0.032915\n",
            "Train Epoch: 15 [25000/33600 (74%)]\tLoss: 0.042294\n",
            "Train Epoch: 15 [30000/33600 (89%)]\tLoss: 0.068723\n",
            "validating .... \n",
            "Train Loss: 0.0003, Train Acc: 99.10\n",
            "Val Loss: 0.0003, Val Acc: 99.17\n",
            "\n"
          ]
        }
      ],
      "source": [
        "for epoch in range(EPOCHS):\n",
        "    print(f\"Epoch {epoch + 1} of {EPOCHS}\\n\")\n",
        "    train_epoch_loss, train_epoch_accuracy, train_epoch_lr = fit(epoch)\n",
        "    val_epoch_loss, val_epoch_accuracy, val_epoch_preds, val_epoch_probs = validate(val_loader)\n",
        "\n",
        "    train_loss.append(train_epoch_loss)\n",
        "    train_accuracy.append(train_epoch_accuracy)\n",
        "    train_lr.append(train_epoch_lr)\n",
        "\n",
        "    val_loss.append(val_epoch_loss)\n",
        "    val_accuracy.append(val_epoch_accuracy)\n",
        "    val_preds.append(val_epoch_preds)\n",
        "    val_probs.append(val_epoch_probs)\n",
        "\n",
        "    print(f\"Train Loss: {train_epoch_loss:.4f}, Train Acc: {train_epoch_accuracy:.2f}\")\n",
        "    print(f'Val Loss: {val_epoch_loss:.4f}, Val Acc: {val_epoch_accuracy:.2f}\\n')"
      ]
    },
    {
      "cell_type": "code",
      "source": [
        "torch.save({'epoch': EPOCHS,'model_state_dict': model.state_dict(), 'optimizer_state_dict': optimizer.state_dict(),'loss': criterion, },'./model.pth')\n",
        "# load the model checkpoint\n",
        "checkpoint = torch.load('./model.pth')\n",
        "print(f\"Trained for {EPOCHS} number of epochs.\")"
      ],
      "metadata": {
        "colab": {
          "base_uri": "https://localhost:8080/"
        },
        "id": "2i3f2wrD8BMm",
        "outputId": "265ecee8-cbbd-4c9f-f50c-4a7a0eb5ce97"
      },
      "id": "2i3f2wrD8BMm",
      "execution_count": 28,
      "outputs": [
        {
          "output_type": "stream",
          "name": "stdout",
          "text": [
            "Trained for 15 number of epochs.\n"
          ]
        }
      ]
    },
    {
      "cell_type": "code",
      "execution_count": 29,
      "id": "0a6cc5a8",
      "metadata": {
        "execution": {
          "iopub.execute_input": "2023-03-18T09:31:08.404317Z",
          "iopub.status.busy": "2023-03-18T09:31:08.403506Z",
          "iopub.status.idle": "2023-03-18T09:31:08.812892Z",
          "shell.execute_reply": "2023-03-18T09:31:08.811909Z"
        },
        "papermill": {
          "duration": 0.428517,
          "end_time": "2023-03-18T09:31:08.815631",
          "exception": false,
          "start_time": "2023-03-18T09:31:08.387114",
          "status": "completed"
        },
        "tags": [],
        "colab": {
          "base_uri": "https://localhost:8080/",
          "height": 282
        },
        "id": "0a6cc5a8",
        "outputId": "2cb1e1d5-f8db-455f-c499-6d79f5ec0333"
      },
      "outputs": [
        {
          "output_type": "execute_result",
          "data": {
            "text/plain": [
              "<matplotlib.legend.Legend at 0x7f6a75cd8f40>"
            ]
          },
          "metadata": {},
          "execution_count": 29
        },
        {
          "output_type": "display_data",
          "data": {
            "text/plain": [
              "<Figure size 432x288 with 1 Axes>"
            ],
            "image/png": "[encoded data removed]"
          },
          "metadata": {
            "image/png": {
              "width": 391,
              "height": 248
            },
            "needs_background": "light"
          }
        }
      ],
      "source": [
        "%matplotlib inline\n",
        "%config InlineBackend.figure_format = 'retina'\n",
        "import matplotlib.pyplot as plt\n",
        "\n",
        "plt.plot(train_loss, label='Training Loss')\n",
        "plt.plot(val_loss, label='Validation Loss')\n",
        "plt.legend(frameon=False)"
      ]
    },
    {
      "cell_type": "code",
      "source": [
        "y_pred_classes = val_preds[EPOCHS - 1].cpu().numpy().ravel()"
      ],
      "metadata": {
        "id": "d8CZ3J-Y8XYt"
      },
      "id": "d8CZ3J-Y8XYt",
      "execution_count": 30,
      "outputs": []
    },
    {
      "cell_type": "code",
      "execution_count": 31,
      "id": "22741c3a",
      "metadata": {
        "execution": {
          "iopub.execute_input": "2023-03-18T09:31:08.848289Z",
          "iopub.status.busy": "2023-03-18T09:31:08.847862Z",
          "iopub.status.idle": "2023-03-18T09:31:10.505389Z",
          "shell.execute_reply": "2023-03-18T09:31:10.503931Z"
        },
        "papermill": {
          "duration": 1.679521,
          "end_time": "2023-03-18T09:31:10.510948",
          "exception": false,
          "start_time": "2023-03-18T09:31:08.831427",
          "status": "completed"
        },
        "tags": [],
        "id": "22741c3a"
      },
      "outputs": [],
      "source": [
        "def display_pred_images():\n",
        "    plt.figure(figsize=(12, 4))\n",
        "    for i in range(3):\n",
        "        index = random.randint(1, X_val.shape[0])\n",
        "        predicted_label = y_pred_classes[index]\n",
        "        true_label = y_val[index]\n",
        "        plt.subplot(330 + 1 + i)\n",
        "        plt.title('Predicted label: %s \\n' % predicted_label + \\\n",
        "                  'True label %s \\n' % true_label.item(),\n",
        "                  fontsize=18)\n",
        "        plt.imshow(X_val[index].view(28, 28), cmap=plt.get_cmap('gray'))\n",
        "    plt.subplots_adjust(bottom=0.001)\n",
        "    plt.subplots_adjust(top=0.99)\n",
        "    plt.show()"
      ]
    },
    {
      "cell_type": "code",
      "source": [
        "display_pred_images()"
      ],
      "metadata": {
        "colab": {
          "base_uri": "https://localhost:8080/",
          "height": 190
        },
        "id": "mYNm-DFl_HqU",
        "outputId": "930721f5-a0fc-4b66-ed53-bc81f58bdb59"
      },
      "id": "mYNm-DFl_HqU",
      "execution_count": 32,
      "outputs": [
        {
          "output_type": "display_data",
          "data": {
            "text/plain": [
              "<Figure size 864x288 with 3 Axes>"
            ],
            "image/png": "[encoded data removed]"
          },
          "metadata": {
            "image/png": {
              "width": 649,
              "height": 173
            },
            "needs_background": "light"
          }
        }
      ]
    }
  ],
  "metadata": {
    "kernelspec": {
      "display_name": "Python 3",
      "language": "python",
      "name": "python3"
    },
    "language_info": {
      "codemirror_mode": {
        "name": "ipython",
        "version": 3
      },
      "file_extension": ".py",
      "mimetype": "text/x-python",
      "name": "python",
      "nbconvert_exporter": "python",
      "pygments_lexer": "ipython3",
      "version": "3.7.12"
    },
    "papermill": {
      "default_parameters": {},
      "duration": 169.538675,
      "end_time": "2023-03-18T09:31:31.016146",
      "environment_variables": {},
      "exception": null,
      "input_path": "__notebook__.ipynb",
      "output_path": "__notebook__.ipynb",
      "parameters": {},
      "start_time": "2023-03-18T09:28:41.477471",
      "version": "2.4.0"
    },
    "colab": {
      "provenance": [],
      "machine_shape": "hm"
    },
    "accelerator": "GPU",
    "gpuClass": "premium"
  },
  "nbformat": 4,
  "nbformat_minor": 5
}