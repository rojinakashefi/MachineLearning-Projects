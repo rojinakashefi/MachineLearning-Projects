{
  "nbformat": 4,
  "nbformat_minor": 0,
  "metadata": {
    "colab": {
      "provenance": []
    },
    "kernelspec": {
      "name": "python3",
      "display_name": "Python 3"
    },
    "language_info": {
      "name": "python"
    }
  },
  "cells": [
    {
      "cell_type": "code",
      "execution_count": 44,
      "metadata": {
        "id": "T8g-0XnDWELu"
      },
      "outputs": [],
      "source": [
        "import torch\n",
        "from torch import nn\n",
        "from torch.utils.data import DataLoader\n",
        "from torchvision import datasets\n",
        "from torchvision.transforms import ToTensor"
      ]
    },
    {
      "cell_type": "markdown",
      "source": [
        "\n",
        "pyTorch offers domain-specific libraries such as [TorchText](https://pytorch.org/text/stable/index.html),\n",
        "[TorchVision](https://pytorch.org/vision/stable/index.html), and [TorchAudio](https://pytorch.org/audio/stable/index.html),\n",
        "all of which include datasets."
      ],
      "metadata": {
        "id": "EQ5E7XsrXKH4"
      }
    },
    {
      "cell_type": "markdown",
      "source": [
        "The torchvision.datasets module contains Dataset objects for many real-world vision data like\n",
        "CIFAR, COCO ([full list here](https://pytorch.org/vision/stable/datasets.html)). In this tutorial, we\n",
        "use the FashionMNIST dataset. Every TorchVision Dataset includes two arguments: transform and\n",
        "target_transform to modify the samples and labels respectively."
      ],
      "metadata": {
        "id": "v_9xTIuBXXME"
      }
    },
    {
      "cell_type": "markdown",
      "source": [
        "A PyTorch Tensor is basically the same as a numpy array: it does not know anything about deep learning or computational graphs or gradients, and is just a generic n-dimensional array to be used for arbitrary numeric computation.\n",
        "\n",
        "The biggest difference between a numpy array and a PyTorch Tensor is that a PyTorch Tensor can run on either CPU or GPU. To run operations on the GPU, just cast the Tensor to a cuda datatype."
      ],
      "metadata": {
        "id": "0WxQI6X-Xkbw"
      }
    },
    {
      "cell_type": "code",
      "source": [
        "training_data = datasets.FashionMNIST(root='data',train=True, download=True,transform=ToTensor())"
      ],
      "metadata": {
        "id": "Rix9QEuwXscg"
      },
      "execution_count": 45,
      "outputs": []
    },
    {
      "cell_type": "code",
      "source": [
        "test_data = datasets.FashionMNIST(root='data',train=False, download=True, transform= ToTensor())"
      ],
      "metadata": {
        "id": "AZBi7MX8X6cV"
      },
      "execution_count": 46,
      "outputs": []
    },
    {
      "cell_type": "markdown",
      "source": [
        "PyTorch has two [primitives to work with data](https://pytorch.org/docs/stable/data.html):\n",
        "``torch.utils.data.DataLoader`` and ``torch.utils.data.Dataset``.\n",
        "``Dataset`` stores the samples and their corresponding labels, and ``DataLoader`` wraps an iterable around\n",
        "the ``Dataset``."
      ],
      "metadata": {
        "id": "vmhAa6SLYYyQ"
      }
    },
    {
      "cell_type": "code",
      "source": [
        "batch_size = 64\n",
        "train_dataloader = DataLoader(training_data, batch_size = 64)\n",
        "test_dataloader = DataLoader(test_data, batch_size = 64)"
      ],
      "metadata": {
        "id": "DjLFynRaYNTH"
      },
      "execution_count": 47,
      "outputs": []
    },
    {
      "cell_type": "markdown",
      "source": [
        "![](https://docs.nvidia.com/deeplearning/performance/dl-performance-convolutional/graphics/convo-tensor.svg)"
      ],
      "metadata": {
        "id": "03c_o5EgduYO"
      }
    },
    {
      "cell_type": "code",
      "source": [
        "for X, y in test_dataloader:\n",
        "  print(f\"Shape of X [N, C, H, W]: {X.shape}\")\n",
        "  print(f\"Shape of y: {y.shape} {y.dtype}\")\n",
        "  break"
      ],
      "metadata": {
        "colab": {
          "base_uri": "https://localhost:8080/"
        },
        "id": "Pn9HkK5CdNyV",
        "outputId": "a5b9fb81-449b-47b4-aa29-ea03692ee130"
      },
      "execution_count": 48,
      "outputs": [
        {
          "output_type": "stream",
          "name": "stdout",
          "text": [
            "Shape of X [N, C, H, W]: torch.Size([64, 1, 28, 28])\n",
            "Shape of y: torch.Size([64]) torch.int64\n"
          ]
        }
      ]
    },
    {
      "cell_type": "code",
      "source": [
        "device = 'cuda' if torch.cuda.is_available() else \"mps\" if torch.backends.mps.is_available() else \"cpu\"\n",
        "print(device)"
      ],
      "metadata": {
        "colab": {
          "base_uri": "https://localhost:8080/"
        },
        "id": "urD5k85seoxs",
        "outputId": "931eaff6-8c90-4dde-924d-00d83aecf316"
      },
      "execution_count": 49,
      "outputs": [
        {
          "output_type": "stream",
          "name": "stdout",
          "text": [
            "cpu\n"
          ]
        }
      ]
    },
    {
      "cell_type": "code",
      "source": [
        "class NeuralNetwork(nn.Module):\n",
        "  def __init__(self):\n",
        "    super().__init__()\n",
        "    self.flatten = nn.Flatten()\n",
        "    self.linear_relu_stack = nn.Sequential(\n",
        "        nn.Linear(28 * 28, 512),\n",
        "        nn.ReLU(),\n",
        "        nn.Linear(512, 512),\n",
        "        nn.ReLU(),\n",
        "        nn.Linear(512,10)\n",
        "    )\n",
        "  def forward(self,x):\n",
        "    x = self.flatten(x)\n",
        "    logits = self.linear_relu_stack(x)\n",
        "    return logits"
      ],
      "metadata": {
        "id": "tREhKZ7Ee9gg"
      },
      "execution_count": 50,
      "outputs": []
    },
    {
      "cell_type": "code",
      "source": [
        "model = NeuralNetwork()"
      ],
      "metadata": {
        "id": "d_T8xrGD0sbl"
      },
      "execution_count": 51,
      "outputs": []
    },
    {
      "cell_type": "code",
      "source": [
        "loss_fn = nn.CrossEntropyLoss()\n",
        "optimizer = torch.optim.SGD(model.parameters(), lr = 1e-3)"
      ],
      "metadata": {
        "id": "xDV503Lqi5jN"
      },
      "execution_count": 52,
      "outputs": []
    },
    {
      "cell_type": "code",
      "source": [
        "def train(dataloader, model, loss_fn, optimizer):\n",
        "  \n",
        "  size = len(dataloader.dataset)\n",
        "  model.train()\n",
        "\n",
        "  for batch, (X, y) in enumerate(dataloader):\n",
        "\n",
        "    X, y = X.to(device), y.to(device)\n",
        "    pred = model(X)\n",
        "    loss = loss_fn(pred,y)\n",
        "\n",
        "    optimizer.zero_grad()\n",
        "    loss.backward()\n",
        "    optimizer.step()\n",
        "\n",
        "    if batch % 100 == 0 :\n",
        "      loss, current = loss.item(), batch * len(X)\n",
        "      print(f\"loss: {loss:>7f}  [{current:>5d}/{size:>5d}]\")\n"
      ],
      "metadata": {
        "id": "3hTY3Akc0wer"
      },
      "execution_count": 53,
      "outputs": []
    },
    {
      "cell_type": "code",
      "source": [
        "def test(dataloader, model, loss_fn):\n",
        "    size = len(dataloader.dataset)\n",
        "    num_batches = len(dataloader)\n",
        "    model.eval()\n",
        "    test_loss, correct = 0, 0\n",
        "    printtt = True\n",
        "    with torch.no_grad():\n",
        "        for X, y in dataloader:\n",
        "            X, y = X.to(device), y.to(device)\n",
        "            pred = model(X)\n",
        "            test_loss += loss_fn(pred, y).item()\n",
        "            correct += (pred.argmax(1) == y).type(torch.float).sum().item()\n",
        "    test_loss /= num_batches\n",
        "    correct /= size\n",
        "    print(f\"Test Error: \\n Accuracy: {(100*correct):>0.1f}%, Avg loss: {test_loss:>8f} \\n\")\n"
      ],
      "metadata": {
        "id": "Z7xW6dOP11ST"
      },
      "execution_count": 54,
      "outputs": []
    },
    {
      "cell_type": "code",
      "source": [
        "epochs = 5\n",
        "for t in range(epochs):\n",
        "    print(f\"Epoch {t+1}\\n-------------------------------\")\n",
        "    train(train_dataloader, model, loss_fn, optimizer)\n",
        "    test(test_dataloader, model, loss_fn)\n",
        "print(\"Done!\")"
      ],
      "metadata": {
        "colab": {
          "base_uri": "https://localhost:8080/"
        },
        "id": "gmFmeW_u2hKG",
        "outputId": "36b0d6d0-153b-49d1-f157-e8de526b9223"
      },
      "execution_count": 55,
      "outputs": [
        {
          "output_type": "stream",
          "name": "stdout",
          "text": [
            "Epoch 1\n",
            "-------------------------------\n",
            "loss: 2.309022  [    0/60000]\n",
            "loss: 2.292829  [ 6400/60000]\n",
            "loss: 2.271144  [12800/60000]\n",
            "loss: 2.264394  [19200/60000]\n",
            "loss: 2.248418  [25600/60000]\n",
            "loss: 2.212064  [32000/60000]\n",
            "loss: 2.232138  [38400/60000]\n",
            "loss: 2.193746  [44800/60000]\n",
            "loss: 2.180630  [51200/60000]\n",
            "loss: 2.159911  [57600/60000]\n",
            "Test Error: \n",
            " Accuracy: 45.5%, Avg loss: 2.149940 \n",
            "\n",
            "Epoch 2\n",
            "-------------------------------\n",
            "loss: 2.160389  [    0/60000]\n",
            "loss: 2.149143  [ 6400/60000]\n",
            "loss: 2.087502  [12800/60000]\n",
            "loss: 2.112666  [19200/60000]\n",
            "loss: 2.059658  [25600/60000]\n",
            "loss: 1.993497  [32000/60000]\n",
            "loss: 2.039924  [38400/60000]\n",
            "loss: 1.953670  [44800/60000]\n",
            "loss: 1.947925  [51200/60000]\n",
            "loss: 1.897506  [57600/60000]\n",
            "Test Error: \n",
            " Accuracy: 56.0%, Avg loss: 1.881669 \n",
            "\n",
            "Epoch 3\n",
            "-------------------------------\n",
            "loss: 1.913232  [    0/60000]\n",
            "loss: 1.882352  [ 6400/60000]\n",
            "loss: 1.757978  [12800/60000]\n",
            "loss: 1.817839  [19200/60000]\n",
            "loss: 1.702829  [25600/60000]\n",
            "loss: 1.644293  [32000/60000]\n",
            "loss: 1.696150  [38400/60000]\n",
            "loss: 1.585590  [44800/60000]\n",
            "loss: 1.603557  [51200/60000]\n",
            "loss: 1.521170  [57600/60000]\n",
            "Test Error: \n",
            " Accuracy: 60.6%, Avg loss: 1.520106 \n",
            "\n",
            "Epoch 4\n",
            "-------------------------------\n",
            "loss: 1.585216  [    0/60000]\n",
            "loss: 1.547471  [ 6400/60000]\n",
            "loss: 1.391746  [12800/60000]\n",
            "loss: 1.486859  [19200/60000]\n",
            "loss: 1.360184  [25600/60000]\n",
            "loss: 1.340334  [32000/60000]\n",
            "loss: 1.383244  [38400/60000]\n",
            "loss: 1.299737  [44800/60000]\n",
            "loss: 1.327319  [51200/60000]\n",
            "loss: 1.241266  [57600/60000]\n",
            "Test Error: \n",
            " Accuracy: 63.0%, Avg loss: 1.258348 \n",
            "\n",
            "Epoch 5\n",
            "-------------------------------\n",
            "loss: 1.334877  [    0/60000]\n",
            "loss: 1.310192  [ 6400/60000]\n",
            "loss: 1.145510  [12800/60000]\n",
            "loss: 1.266733  [19200/60000]\n",
            "loss: 1.138638  [25600/60000]\n",
            "loss: 1.143755  [32000/60000]\n",
            "loss: 1.185839  [38400/60000]\n",
            "loss: 1.123138  [44800/60000]\n",
            "loss: 1.153840  [51200/60000]\n",
            "loss: 1.075103  [57600/60000]\n",
            "Test Error: \n",
            " Accuracy: 64.6%, Avg loss: 1.094340 \n",
            "\n",
            "Done!\n"
          ]
        }
      ]
    },
    {
      "cell_type": "code",
      "source": [
        "torch.save(model.state_dict(), \"model.pth\")\n",
        "print(\"Saved PyTorch Model State to model.pth\")"
      ],
      "metadata": {
        "colab": {
          "base_uri": "https://localhost:8080/"
        },
        "id": "TTB9XHa_6mn3",
        "outputId": "b315a12b-cc64-4731-fe50-65a22ee71b42"
      },
      "execution_count": 56,
      "outputs": [
        {
          "output_type": "stream",
          "name": "stdout",
          "text": [
            "Saved PyTorch Model State to model.pth\n"
          ]
        }
      ]
    },
    {
      "cell_type": "code",
      "source": [
        "model = NeuralNetwork()\n",
        "model.load_state_dict(torch.load(\"model.pth\"))"
      ],
      "metadata": {
        "colab": {
          "base_uri": "https://localhost:8080/"
        },
        "id": "-AxvyoIf6jou",
        "outputId": "5a3440e1-72d3-4b32-cb20-6353dbb4693c"
      },
      "execution_count": 57,
      "outputs": [
        {
          "output_type": "execute_result",
          "data": {
            "text/plain": [
              "<All keys matched successfully>"
            ]
          },
          "metadata": {},
          "execution_count": 57
        }
      ]
    },
    {
      "cell_type": "code",
      "source": [
        "classes = [\n",
        "    \"T-shirt/top\",\n",
        "    \"Trouser\",\n",
        "    \"Pullover\",\n",
        "    \"Dress\",\n",
        "    \"Coat\",\n",
        "    \"Sandal\",\n",
        "    \"Shirt\",\n",
        "    \"Sneaker\",\n",
        "    \"Bag\",\n",
        "    \"Ankle boot\",\n",
        "]\n",
        "\n",
        "model.eval()\n",
        "x, y = test_data[0][0], test_data[0][1]\n",
        "with torch.no_grad():\n",
        "    pred = model(x)\n",
        "    print(pred[0])\n",
        "    print(pred[0].argmax())\n",
        "    predicted, actual = classes[pred[0].argmax(0)], classes[y]\n",
        "    print(f'Predicted: \"{predicted}\", Actual: \"{actual}\"')"
      ],
      "metadata": {
        "colab": {
          "base_uri": "https://localhost:8080/"
        },
        "id": "EQBs83Bg6qt2",
        "outputId": "905a8007-9820-4f70-f5a5-45b69161b799"
      },
      "execution_count": 58,
      "outputs": [
        {
          "output_type": "stream",
          "name": "stdout",
          "text": [
            "tensor([-1.7399, -2.3298, -0.9606, -1.7353, -1.1970,  2.2471, -1.1413,  2.5336,\n",
            "         1.6606,  2.9165])\n",
            "tensor(9)\n",
            "Predicted: \"Ankle boot\", Actual: \"Ankle boot\"\n"
          ]
        }
      ]
    }
  ]
}